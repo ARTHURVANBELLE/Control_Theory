{
 "cells": [
  {
   "cell_type": "markdown",
   "id": "7c73aa7d-f025-499b-ae05-65a46076d025",
   "metadata": {},
   "source": []
  },
  {
   "cell_type": "code",
   "execution_count": 112,
   "id": "9b8c4450-e697-4d27-af6f-0ee5d3fd2a91",
   "metadata": {},
   "outputs": [],
   "source": [
    "import pandas as pd\n",
    "import numpy as np\n",
    "import matplotlib.pyplot as plt\n",
    "from scipy.optimize import minimize\n",
    "from matplotlib import colors as mcolors\n",
    "from math import exp\n",
    "\n",
    "import package_LAB\n",
    "from package_LAB import LeadLag_RT, PID_RT, Margin, IMC_Tuning\n",
    "import package_DBR\n",
    "from package_DBR import myRound, SelectPath_RT, Delay_RT, FO_RT, FOPDT, SOPDT, FOPDT_cost, SOPDT_cost, Process, Bode\n",
    "\n",
    "from importlib import reload\n",
    "package_LAB = reload(package_LAB)"
   ]
  },
  {
   "cell_type": "markdown",
   "id": "1a412bdb-4774-4cad-91fe-d6363e94227b",
   "metadata": {},
   "source": [
    "## Scenario"
   ]
  },
  {
   "cell_type": "code",
   "execution_count": 113,
   "id": "0fe30628-7cb9-46ee-86a4-e1d65fe9a16d",
   "metadata": {
    "tags": []
   },
   "outputs": [],
   "source": [
    "TSim = 2500\n",
    "\n",
    "SPPath = {0:60, 1300:60, 1500:50, TSim:50}\n",
    "MVManPath = {0:60, TSim:0}\n",
    "ManPath = {0:1, 500:0, TSim:0}\n",
    "DVPath = {0:50, 2000:60, TSim:60}\n",
    "ManFF = False"
   ]
  },
  {
   "cell_type": "markdown",
   "id": "5dccf41d-7019-4989-971f-c02a86c18595",
   "metadata": {},
   "source": [
    "## Calcul de DV0 & PV0"
   ]
  },
  {
   "cell_type": "code",
   "execution_count": 114,
   "id": "6480fb02-c6b8-4b06-a1d1-8904fa6630b0",
   "metadata": {
    "tags": []
   },
   "outputs": [
    {
     "name": "stdout",
     "output_type": "stream",
     "text": [
      "70.1002900552487\n",
      "71.16462850182711\n"
     ]
    }
   ],
   "source": [
    "nameFile1 = 'Open_loop_experiment_on_MV_2024-03-18-09h26.txt'\n",
    "\n",
    "titleName1 = nameFile1.split('.')[0]\n",
    "data1 = pd.read_csv(nameFile1)\n",
    "t1 = data1['t'].values - data1['t'].values[0]\n",
    "\n",
    "PV0 = 0\n",
    "for i in range(len(t1)):\n",
    "    PV0 += data1['PV'].values[i]\n",
    "PV0 = PV0/len(t1)\n",
    "print(PV0)\n",
    "\n",
    "nameFile2 = 'Open_loop_experiment_on_DV_2024-03-18-19h49.txt'\n",
    "\n",
    "titleName2 = nameFile2.split('.')[0]\n",
    "data2= pd.read_csv(nameFile2)\n",
    "t2 = data2['t'].values - data2['t'].values[0]\n",
    "\n",
    "DV0 = 0\n",
    "for i in range(len(t2)):\n",
    "    DV0 += data2['PV'].values[i]\n",
    "DV0 = DV0/len(t2)\n",
    "print(DV0)"
   ]
  },
  {
   "cell_type": "markdown",
   "id": "c368a6d8-c571-45ef-898c-1fda9357d54c",
   "metadata": {},
   "source": [
    "## Simulation Closed loop Parameters"
   ]
  },
  {
   "cell_type": "code",
   "execution_count": 115,
   "id": "c51d0289-305c-4cf9-8d65-18de8305b42d",
   "metadata": {},
   "outputs": [],
   "source": [
    "Ts = 1\n",
    "N = int(TSim/Ts) + 1\n",
    "\n",
    "MV0 = 50\n",
    "DV0 = 50\n",
    "PV0 = 70\n",
    "\n",
    "t = []\n",
    "MV = [MV0]\n",
    "E = []\n",
    "SP = []\n",
    "PV = []\n",
    "PV1p = []\n",
    "PV2p = []\n",
    "PV1d = []\n",
    "PV2d = []\n",
    "DV = []\n",
    "Man = []\n",
    "MVMan = []\n",
    "MVFF = []\n",
    "MVFF_Delay = []\n",
    "MV_Delayp = []\n",
    "MV_Delayd = []\n",
    "MVP = []\n",
    "MVI = []\n",
    "MVD = []\n",
    "\n",
    "\n",
    "# Parameters\n",
    "Kp = 1\n",
    "Kd = 1\n",
    "KpExp = 0.4971\n",
    "KdExp = 0.3734\n",
    "Kff = KdExp/KpExp #0.7512\n",
    "\n",
    "alpha = 0.9\n",
    "theta_pExp = 4.386\n",
    "theta_dExp = 12.181\n",
    "theta_ffExp = max(0, theta_dExp-theta_pExp)\n",
    "\n",
    "theta_p = 2\n",
    "theta_d = 2\n",
    "\n",
    "MVMin = 0\n",
    "MVMax = 100\n",
    "\n",
    "T1d = 153.9969\n",
    "T2d = 42.4662\n",
    "\n",
    "T1p = 201.8353\n",
    "T2p = 14.1389\n",
    "\n",
    "MVFFdv = []\n",
    "MVFFpv = []\n",
    "\n",
    "T1 = T1p\n",
    "T2 = T2p\n",
    "gamma = 0.4"
   ]
  },
  {
   "cell_type": "markdown",
   "id": "aed7f906-16a0-45ba-8efa-e022ff398f4b",
   "metadata": {},
   "source": [
    "## Simulation Closed loop\n"
   ]
  },
  {
   "cell_type": "code",
   "execution_count": 116,
   "id": "2f20fce9-a636-4ab5-ad24-390b910dcbd6",
   "metadata": {
    "tags": []
   },
   "outputs": [
    {
     "ename": "ValueError",
     "evalue": "x and y must have same first dimension, but have shapes (2500,) and (2499,)",
     "output_type": "error",
     "traceback": [
      "\u001b[1;31m---------------------------------------------------------------------------\u001b[0m",
      "\u001b[1;31mValueError\u001b[0m                                Traceback (most recent call last)",
      "Cell \u001b[1;32mIn[116], line 50\u001b[0m\n\u001b[0;32m     48\u001b[0m plt\u001b[38;5;241m.\u001b[39msubplot(\u001b[38;5;241m4\u001b[39m,\u001b[38;5;241m1\u001b[39m,\u001b[38;5;241m2\u001b[39m)\n\u001b[0;32m     49\u001b[0m plt\u001b[38;5;241m.\u001b[39mstep(t,MV,\u001b[38;5;124m'\u001b[39m\u001b[38;5;124mr-\u001b[39m\u001b[38;5;124m'\u001b[39m,label\u001b[38;5;241m=\u001b[39m\u001b[38;5;124m'\u001b[39m\u001b[38;5;124mMV\u001b[39m\u001b[38;5;124m'\u001b[39m,where\u001b[38;5;241m=\u001b[39m\u001b[38;5;124m'\u001b[39m\u001b[38;5;124mpre\u001b[39m\u001b[38;5;124m'\u001b[39m)\n\u001b[1;32m---> 50\u001b[0m plt\u001b[38;5;241m.\u001b[39mstep(t,MVP,\u001b[38;5;124m'\u001b[39m\u001b[38;5;124mgreen\u001b[39m\u001b[38;5;124m'\u001b[39m,label\u001b[38;5;241m=\u001b[39m\u001b[38;5;124m'\u001b[39m\u001b[38;5;124mMVP\u001b[39m\u001b[38;5;124m'\u001b[39m,where\u001b[38;5;241m=\u001b[39m\u001b[38;5;124m'\u001b[39m\u001b[38;5;124mpre\u001b[39m\u001b[38;5;124m'\u001b[39m, ls \u001b[38;5;241m=\u001b[39m \u001b[38;5;124m'\u001b[39m\u001b[38;5;124m--\u001b[39m\u001b[38;5;124m'\u001b[39m, linewidth \u001b[38;5;241m=\u001b[39m \u001b[38;5;124m'\u001b[39m\u001b[38;5;124m1\u001b[39m\u001b[38;5;124m'\u001b[39m )\n\u001b[0;32m     51\u001b[0m plt\u001b[38;5;241m.\u001b[39mstep(t,MVI,\u001b[38;5;124m'\u001b[39m\u001b[38;5;124mblue\u001b[39m\u001b[38;5;124m'\u001b[39m,label\u001b[38;5;241m=\u001b[39m\u001b[38;5;124m'\u001b[39m\u001b[38;5;124mMVI\u001b[39m\u001b[38;5;124m'\u001b[39m,where\u001b[38;5;241m=\u001b[39m\u001b[38;5;124m'\u001b[39m\u001b[38;5;124mpre\u001b[39m\u001b[38;5;124m'\u001b[39m, ls \u001b[38;5;241m=\u001b[39m \u001b[38;5;124m'\u001b[39m\u001b[38;5;124m--\u001b[39m\u001b[38;5;124m'\u001b[39m, linewidth \u001b[38;5;241m=\u001b[39m \u001b[38;5;124m'\u001b[39m\u001b[38;5;124m1\u001b[39m\u001b[38;5;124m'\u001b[39m)\n\u001b[0;32m     52\u001b[0m plt\u001b[38;5;241m.\u001b[39mstep(t,MVD,\u001b[38;5;124m'\u001b[39m\u001b[38;5;124mcyan\u001b[39m\u001b[38;5;124m'\u001b[39m,label\u001b[38;5;241m=\u001b[39m\u001b[38;5;124m'\u001b[39m\u001b[38;5;124mMVD\u001b[39m\u001b[38;5;124m'\u001b[39m,where\u001b[38;5;241m=\u001b[39m\u001b[38;5;124m'\u001b[39m\u001b[38;5;124mpre\u001b[39m\u001b[38;5;124m'\u001b[39m, ls \u001b[38;5;241m=\u001b[39m \u001b[38;5;124m'\u001b[39m\u001b[38;5;124m--\u001b[39m\u001b[38;5;124m'\u001b[39m, linewidth \u001b[38;5;241m=\u001b[39m \u001b[38;5;124m'\u001b[39m\u001b[38;5;124m1\u001b[39m\u001b[38;5;124m'\u001b[39m)\n",
      "File \u001b[1;32mC:\\ProgramData\\anaconda3\\Lib\\site-packages\\matplotlib\\pyplot.py:2940\u001b[0m, in \u001b[0;36mstep\u001b[1;34m(x, y, where, data, *args, **kwargs)\u001b[0m\n\u001b[0;32m   2938\u001b[0m \u001b[38;5;129m@_copy_docstring_and_deprecators\u001b[39m(Axes\u001b[38;5;241m.\u001b[39mstep)\n\u001b[0;32m   2939\u001b[0m \u001b[38;5;28;01mdef\u001b[39;00m \u001b[38;5;21mstep\u001b[39m(x, y, \u001b[38;5;241m*\u001b[39margs, where\u001b[38;5;241m=\u001b[39m\u001b[38;5;124m'\u001b[39m\u001b[38;5;124mpre\u001b[39m\u001b[38;5;124m'\u001b[39m, data\u001b[38;5;241m=\u001b[39m\u001b[38;5;28;01mNone\u001b[39;00m, \u001b[38;5;241m*\u001b[39m\u001b[38;5;241m*\u001b[39mkwargs):\n\u001b[1;32m-> 2940\u001b[0m     \u001b[38;5;28;01mreturn\u001b[39;00m gca()\u001b[38;5;241m.\u001b[39mstep(\n\u001b[0;32m   2941\u001b[0m         x, y, \u001b[38;5;241m*\u001b[39margs, where\u001b[38;5;241m=\u001b[39mwhere,\n\u001b[0;32m   2942\u001b[0m         \u001b[38;5;241m*\u001b[39m\u001b[38;5;241m*\u001b[39m({\u001b[38;5;124m\"\u001b[39m\u001b[38;5;124mdata\u001b[39m\u001b[38;5;124m\"\u001b[39m: data} \u001b[38;5;28;01mif\u001b[39;00m data \u001b[38;5;129;01mis\u001b[39;00m \u001b[38;5;129;01mnot\u001b[39;00m \u001b[38;5;28;01mNone\u001b[39;00m \u001b[38;5;28;01melse\u001b[39;00m {}), \u001b[38;5;241m*\u001b[39m\u001b[38;5;241m*\u001b[39mkwargs)\n",
      "File \u001b[1;32mC:\\ProgramData\\anaconda3\\Lib\\site-packages\\matplotlib\\axes\\_axes.py:2176\u001b[0m, in \u001b[0;36mAxes.step\u001b[1;34m(self, x, y, where, data, *args, **kwargs)\u001b[0m\n\u001b[0;32m   2174\u001b[0m _api\u001b[38;5;241m.\u001b[39mcheck_in_list((\u001b[38;5;124m'\u001b[39m\u001b[38;5;124mpre\u001b[39m\u001b[38;5;124m'\u001b[39m, \u001b[38;5;124m'\u001b[39m\u001b[38;5;124mpost\u001b[39m\u001b[38;5;124m'\u001b[39m, \u001b[38;5;124m'\u001b[39m\u001b[38;5;124mmid\u001b[39m\u001b[38;5;124m'\u001b[39m), where\u001b[38;5;241m=\u001b[39mwhere)\n\u001b[0;32m   2175\u001b[0m kwargs[\u001b[38;5;124m'\u001b[39m\u001b[38;5;124mdrawstyle\u001b[39m\u001b[38;5;124m'\u001b[39m] \u001b[38;5;241m=\u001b[39m \u001b[38;5;124m'\u001b[39m\u001b[38;5;124msteps-\u001b[39m\u001b[38;5;124m'\u001b[39m \u001b[38;5;241m+\u001b[39m where\n\u001b[1;32m-> 2176\u001b[0m \u001b[38;5;28;01mreturn\u001b[39;00m \u001b[38;5;28mself\u001b[39m\u001b[38;5;241m.\u001b[39mplot(x, y, \u001b[38;5;241m*\u001b[39margs, data\u001b[38;5;241m=\u001b[39mdata, \u001b[38;5;241m*\u001b[39m\u001b[38;5;241m*\u001b[39mkwargs)\n",
      "File \u001b[1;32mC:\\ProgramData\\anaconda3\\Lib\\site-packages\\matplotlib\\axes\\_axes.py:1688\u001b[0m, in \u001b[0;36mAxes.plot\u001b[1;34m(self, scalex, scaley, data, *args, **kwargs)\u001b[0m\n\u001b[0;32m   1445\u001b[0m \u001b[38;5;250m\u001b[39m\u001b[38;5;124;03m\"\"\"\u001b[39;00m\n\u001b[0;32m   1446\u001b[0m \u001b[38;5;124;03mPlot y versus x as lines and/or markers.\u001b[39;00m\n\u001b[0;32m   1447\u001b[0m \n\u001b[1;32m   (...)\u001b[0m\n\u001b[0;32m   1685\u001b[0m \u001b[38;5;124;03m(``'green'``) or hex strings (``'#008000'``).\u001b[39;00m\n\u001b[0;32m   1686\u001b[0m \u001b[38;5;124;03m\"\"\"\u001b[39;00m\n\u001b[0;32m   1687\u001b[0m kwargs \u001b[38;5;241m=\u001b[39m cbook\u001b[38;5;241m.\u001b[39mnormalize_kwargs(kwargs, mlines\u001b[38;5;241m.\u001b[39mLine2D)\n\u001b[1;32m-> 1688\u001b[0m lines \u001b[38;5;241m=\u001b[39m [\u001b[38;5;241m*\u001b[39m\u001b[38;5;28mself\u001b[39m\u001b[38;5;241m.\u001b[39m_get_lines(\u001b[38;5;241m*\u001b[39margs, data\u001b[38;5;241m=\u001b[39mdata, \u001b[38;5;241m*\u001b[39m\u001b[38;5;241m*\u001b[39mkwargs)]\n\u001b[0;32m   1689\u001b[0m \u001b[38;5;28;01mfor\u001b[39;00m line \u001b[38;5;129;01min\u001b[39;00m lines:\n\u001b[0;32m   1690\u001b[0m     \u001b[38;5;28mself\u001b[39m\u001b[38;5;241m.\u001b[39madd_line(line)\n",
      "File \u001b[1;32mC:\\ProgramData\\anaconda3\\Lib\\site-packages\\matplotlib\\axes\\_base.py:311\u001b[0m, in \u001b[0;36m_process_plot_var_args.__call__\u001b[1;34m(self, data, *args, **kwargs)\u001b[0m\n\u001b[0;32m    309\u001b[0m     this \u001b[38;5;241m+\u001b[39m\u001b[38;5;241m=\u001b[39m args[\u001b[38;5;241m0\u001b[39m],\n\u001b[0;32m    310\u001b[0m     args \u001b[38;5;241m=\u001b[39m args[\u001b[38;5;241m1\u001b[39m:]\n\u001b[1;32m--> 311\u001b[0m \u001b[38;5;28;01myield from\u001b[39;00m \u001b[38;5;28mself\u001b[39m\u001b[38;5;241m.\u001b[39m_plot_args(\n\u001b[0;32m    312\u001b[0m     this, kwargs, ambiguous_fmt_datakey\u001b[38;5;241m=\u001b[39mambiguous_fmt_datakey)\n",
      "File \u001b[1;32mC:\\ProgramData\\anaconda3\\Lib\\site-packages\\matplotlib\\axes\\_base.py:504\u001b[0m, in \u001b[0;36m_process_plot_var_args._plot_args\u001b[1;34m(self, tup, kwargs, return_kwargs, ambiguous_fmt_datakey)\u001b[0m\n\u001b[0;32m    501\u001b[0m     \u001b[38;5;28mself\u001b[39m\u001b[38;5;241m.\u001b[39maxes\u001b[38;5;241m.\u001b[39myaxis\u001b[38;5;241m.\u001b[39mupdate_units(y)\n\u001b[0;32m    503\u001b[0m \u001b[38;5;28;01mif\u001b[39;00m x\u001b[38;5;241m.\u001b[39mshape[\u001b[38;5;241m0\u001b[39m] \u001b[38;5;241m!=\u001b[39m y\u001b[38;5;241m.\u001b[39mshape[\u001b[38;5;241m0\u001b[39m]:\n\u001b[1;32m--> 504\u001b[0m     \u001b[38;5;28;01mraise\u001b[39;00m \u001b[38;5;167;01mValueError\u001b[39;00m(\u001b[38;5;124mf\u001b[39m\u001b[38;5;124m\"\u001b[39m\u001b[38;5;124mx and y must have same first dimension, but \u001b[39m\u001b[38;5;124m\"\u001b[39m\n\u001b[0;32m    505\u001b[0m                      \u001b[38;5;124mf\u001b[39m\u001b[38;5;124m\"\u001b[39m\u001b[38;5;124mhave shapes \u001b[39m\u001b[38;5;132;01m{\u001b[39;00mx\u001b[38;5;241m.\u001b[39mshape\u001b[38;5;132;01m}\u001b[39;00m\u001b[38;5;124m and \u001b[39m\u001b[38;5;132;01m{\u001b[39;00my\u001b[38;5;241m.\u001b[39mshape\u001b[38;5;132;01m}\u001b[39;00m\u001b[38;5;124m\"\u001b[39m)\n\u001b[0;32m    506\u001b[0m \u001b[38;5;28;01mif\u001b[39;00m x\u001b[38;5;241m.\u001b[39mndim \u001b[38;5;241m>\u001b[39m \u001b[38;5;241m2\u001b[39m \u001b[38;5;129;01mor\u001b[39;00m y\u001b[38;5;241m.\u001b[39mndim \u001b[38;5;241m>\u001b[39m \u001b[38;5;241m2\u001b[39m:\n\u001b[0;32m    507\u001b[0m     \u001b[38;5;28;01mraise\u001b[39;00m \u001b[38;5;167;01mValueError\u001b[39;00m(\u001b[38;5;124mf\u001b[39m\u001b[38;5;124m\"\u001b[39m\u001b[38;5;124mx and y can be no greater than 2D, but have \u001b[39m\u001b[38;5;124m\"\u001b[39m\n\u001b[0;32m    508\u001b[0m                      \u001b[38;5;124mf\u001b[39m\u001b[38;5;124m\"\u001b[39m\u001b[38;5;124mshapes \u001b[39m\u001b[38;5;132;01m{\u001b[39;00mx\u001b[38;5;241m.\u001b[39mshape\u001b[38;5;132;01m}\u001b[39;00m\u001b[38;5;124m and \u001b[39m\u001b[38;5;132;01m{\u001b[39;00my\u001b[38;5;241m.\u001b[39mshape\u001b[38;5;132;01m}\u001b[39;00m\u001b[38;5;124m\"\u001b[39m)\n",
      "\u001b[1;31mValueError\u001b[0m: x and y must have same first dimension, but have shapes (2500,) and (2499,)"
     ]
    },
    {
     "data": {
      "image/png": "[encoded data removed]",
      "text/plain": [
       "<Figure size 1500x2000 with 2 Axes>"
      ]
     },
     "metadata": {},
     "output_type": "display_data"
    }
   ],
   "source": [
    "[Kc, Ti, Td] = IMC_Tuning(T1, T2, T1p, gamma, Kp)\n",
    "\n",
    "\n",
    "for i in range(0,N-1):\n",
    "    t.append(i*Ts)\n",
    "    SelectPath_RT(SPPath,t,SP)\n",
    "    SelectPath_RT(MVManPath,t,MVMan)\n",
    "    SelectPath_RT(ManPath,t,Man)\n",
    "    SelectPath_RT(DVPath,t,DV)\n",
    "    \n",
    "    \n",
    "    #MVFF\n",
    "    Delay_RT(DV - DV0*np.ones_like(DV),np.max([theta_d-theta_p,0]),Ts,MVFF_Delay, DV0)\n",
    "    \n",
    "    LeadLag_RT(MVFF_Delay, -Kff, T1p, T1d, Ts, MVFFdv)\n",
    "    LeadLag_RT(MVFFdv, 1, T2p, T2d, Ts, MVFF)\n",
    "\n",
    "    \n",
    "    PID_RT(SP, PV, Man, MVMan, MVFF, Kc, Ti, Td, alpha, Ts, MVMin, MVMax, MV, MVP, MVI, MVD, E, ManFF)\n",
    "    \n",
    "    \n",
    "    \n",
    "    Delay_RT(MV, theta_p, Ts, MV_Delayp, MV0)\n",
    "    \n",
    "    FO_RT(MV_Delayp,Kp,T1p,Ts,PV1p,0)\n",
    "    FO_RT(PV1p,1,T2p,Ts,PV2p,0)\n",
    "    \n",
    "    Delay_RT(DV - DV0*np.ones_like(DV),theta_d,Ts,MV_Delayd, DV0)\n",
    "    \n",
    "    FO_RT(MV_Delayd,Kd,T1d,Ts,PV1d,0)\n",
    "    FO_RT(PV1d,1,T2d,Ts,PV2d,0)\n",
    "    \n",
    "    PV.append(PV2p[-1] + PV2d[-1] + PV0-Kp*MV0)\n",
    "    \n",
    "\n",
    "\n",
    "plt.figure(figsize = (15,20))\n",
    "\n",
    "plt.subplot(4,1,1)\n",
    "plt.step(t,Man,'black',label='Man',where='pre')\n",
    "plt.ylabel('Value of Man')\n",
    "plt.title('PID CLP FF test')\n",
    "plt.xlim([0, TSim])\n",
    "plt.ylim([-0.1,1.1])\n",
    "\n",
    "plt.subplot(4,1,2)\n",
    "plt.step(t,MV,'r-',label='MV',where='pre')\n",
    "plt.step(t,MVP,'green',label='MVP',where='pre', ls = '--', linewidth = '1' )\n",
    "plt.step(t,MVI,'blue',label='MVI',where='pre', ls = '--', linewidth = '1')\n",
    "plt.step(t,MVD,'cyan',label='MVD',where='pre', ls = '--', linewidth = '1')\n",
    "plt.step(t,MVFF,'black',label='MVFF',where='pre', ls = '--', linewidth = '1')\n",
    "#plt.plot(MVI, ls = ':')\n",
    "plt.ylabel('Values of MV')\n",
    "plt.legend(loc=\"upper right\", bbox_to_anchor=(1,1))\n",
    "plt.xlim([0, TSim])\n",
    "plt.ylim([-60,115])\n",
    "\n",
    "plt.subplot(4,1,3)\n",
    "plt.step(t,PV,'-g', label='PV',where='post')\n",
    "plt.step(t,SP,'-r', label='SP',where='post')\n",
    "#plt.step(t,E,'black', label='E',where='post', linewidth = 0.8)\n",
    "#plt.axhline(y=0, color='black',linestyle='--', linewidth = 0.5)\n",
    "plt.ylabel('Value of PV and SP')\n",
    "plt.legend(loc=\"upper right\", bbox_to_anchor=(1,1))\n",
    "plt.xlim([0, TSim])    \n",
    "\n",
    "plt.subplot(4,1,4)\n",
    "#plt.step(t,MVMan,'-b', label='MVMan',where='post')\n",
    "plt.step(t,DV,'-r', label='DV',where='post')\n",
    "plt.ylabel('Value of DV')\n",
    "plt.xlabel('Time [s]')\n",
    "plt.legend(loc='best')\n",
    "plt.xlim([0, TSim]) \n",
    "\n"
   ]
  },
  {
   "cell_type": "markdown",
   "id": "c93d26a9-3b9c-4a11-82fb-bef0a0ce9f74",
   "metadata": {},
   "source": [
    "## Phase & Gain Margins"
   ]
  },
  {
   "cell_type": "code",
   "execution_count": null,
   "id": "d3f5a9d6-5e11-48af-b4f3-f845a5c0cde4",
   "metadata": {},
   "outputs": [],
   "source": [
    "P = Process({})\n",
    "\n",
    "Am = None\n",
    "Phim = None\n",
    "\n",
    "\n",
    "P.parameters['Kp'] = 2\n",
    "P.parameters['Tlag1'] = T1p\n",
    "P.parameters['Tlag2'] = T2p\n",
    "P.parameters['theta'] = theta_pExp\n",
    "\n",
    "omega = np.logspace(-3, 1, 10000)\n",
    "\n",
    "P1 = Margin(P,omega, Am, Phim,omegaC=0, omegaU=0, Show=True)\n",
    "\n",
    "print(P1)"
   ]
  },
  {
   "cell_type": "code",
   "execution_count": null,
   "id": "56ec34b8-a36d-4d75-a819-923ef6c9d349",
   "metadata": {},
   "outputs": [],
   "source": []
  }
 ],
 "metadata": {
  "kernelspec": {
   "display_name": "Python 3 (ipykernel)",
   "language": "python",
   "name": "python3"
  },
  "language_info": {
   "codemirror_mode": {
    "name": "ipython",
    "version": 3
   },
   "file_extension": ".py",
   "mimetype": "text/x-python",
   "name": "python",
   "nbconvert_exporter": "python",
   "pygments_lexer": "ipython3",
   "version": "3.11.5"
  }
 },
 "nbformat": 4,
 "nbformat_minor": 5
}
