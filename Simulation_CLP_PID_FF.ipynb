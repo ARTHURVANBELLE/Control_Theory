{
 "cells": [
  {
   "cell_type": "markdown",
   "id": "7c73aa7d-f025-499b-ae05-65a46076d025",
   "metadata": {},
   "source": []
  },
  {
   "cell_type": "code",
   "execution_count": 204,
   "id": "9b8c4450-e697-4d27-af6f-0ee5d3fd2a91",
   "metadata": {},
   "outputs": [],
   "source": [
    "import pandas as pd\n",
    "import numpy as np\n",
    "import matplotlib.pyplot as plt\n",
    "from scipy.optimize import minimize\n",
    "from matplotlib import colors as mcolors\n",
    "from math import exp\n",
    "\n",
    "import package_LAB\n",
    "from package_LAB import LeadLag_RT, PID_RT, Margin, IMC_Tuning\n",
    "import package_DBR\n",
    "from package_DBR import myRound, SelectPath_RT, Delay_RT, FO_RT, FOPDT, SOPDT, FOPDT_cost, SOPDT_cost, Process, Bode\n",
    "\n",
    "from importlib import reload\n",
    "package_LAB = reload(package_LAB)"
   ]
  },
  {
   "cell_type": "markdown",
   "id": "1a412bdb-4774-4cad-91fe-d6363e94227b",
   "metadata": {},
   "source": [
    "## Scenario"
   ]
  },
  {
   "cell_type": "code",
   "execution_count": 205,
   "id": "0fe30628-7cb9-46ee-86a4-e1d65fe9a16d",
   "metadata": {
    "tags": []
   },
   "outputs": [],
   "source": [
    "Scenario = \"TCLAB_Simu\"\n",
    "\n",
    "if(Scenario == \"TestMan\"):\n",
    "    TSim = 3000\n",
    "\n",
    "    SPPath = {0:60, 1500:50, TSim:50}\n",
    "    MVManPath = {0:60, TSim:0}\n",
    "    ManPath = {0:1, 1500:0, TSim:0}\n",
    "    DVPath = {0:10, 700:30, 1500:20, TSim:10}\n",
    "    ManFF = False\n",
    "\n",
    "if(Scenario == \"TCLAB_Simu\"):\n",
    "    TSim = 2500\n",
    "\n",
    "    SPPath = {0:75, 1300:65, 1500:65, TSim:65}\n",
    "    MVManPath = {0:50, TSim:50}\n",
    "    ManPath = {0:True, 500:False, TSim:False}\n",
    "    DVPath = {0:50, 2000:60, TSim:60}\n",
    "    ManFF = False"
   ]
  },
  {
   "cell_type": "markdown",
   "id": "5dccf41d-7019-4989-971f-c02a86c18595",
   "metadata": {},
   "source": [
    "## Calcul de DV0 & PV0"
   ]
  },
  {
   "cell_type": "code",
   "execution_count": 206,
   "id": "6480fb02-c6b8-4b06-a1d1-8904fa6630b0",
   "metadata": {
    "tags": []
   },
   "outputs": [
    {
     "name": "stdout",
     "output_type": "stream",
     "text": [
      "70.1002900552487\n"
     ]
    },
    {
     "data": {
      "text/plain": [
       "\"\\nnameFile2 = 'Open_loop_experiment_on_DV_2024-03-18-19h49.txt'\\n\\ntitleName2 = nameFile2.split('.')[0]\\ndata2= pd.read_csv(nameFile2)\\nt2 = data2['t'].values - data2['t'].values[0]\\n\\nDV0 = 0\\nfor i in range(len(t2)):\\n    DV0 += data2['PV'].values[i]\\nDV0 = DV0/len(t2)\\nprint(DV0)\\n\""
      ]
     },
     "execution_count": 206,
     "metadata": {},
     "output_type": "execute_result"
    }
   ],
   "source": [
    "nameFile1 = 'Open_loop_experiment_on_MV_2024-03-18-09h26.txt'\n",
    "\n",
    "titleName1 = nameFile1.split('.')[0]\n",
    "data1 = pd.read_csv(nameFile1)\n",
    "t1 = data1['t'].values - data1['t'].values[0]\n",
    "\n",
    "PV0 = 0\n",
    "for i in range(len(t1)):\n",
    "    PV0 += data1['PV'].values[i]\n",
    "PV0 = PV0/len(t1)\n",
    "print(PV0)\n",
    "\n",
    "\"\"\"\n",
    "nameFile2 = 'Open_loop_experiment_on_DV_2024-03-18-19h49.txt'\n",
    "\n",
    "titleName2 = nameFile2.split('.')[0]\n",
    "data2= pd.read_csv(nameFile2)\n",
    "t2 = data2['t'].values - data2['t'].values[0]\n",
    "\n",
    "DV0 = 0\n",
    "for i in range(len(t2)):\n",
    "    DV0 += data2['PV'].values[i]\n",
    "DV0 = DV0/len(t2)\n",
    "print(DV0)\n",
    "\"\"\""
   ]
  },
  {
   "cell_type": "markdown",
   "id": "c368a6d8-c571-45ef-898c-1fda9357d54c",
   "metadata": {},
   "source": [
    "## Simulation Closed loop Parameters"
   ]
  },
  {
   "cell_type": "code",
   "execution_count": 207,
   "id": "c51d0289-305c-4cf9-8d65-18de8305b42d",
   "metadata": {},
   "outputs": [],
   "source": [
    "Ts = 1\n",
    "N = int(TSim/Ts) + 1\n",
    "\n",
    "MV0 = 50\n",
    "DV0 = 50\n",
    "PV0 = 70\n",
    "\n",
    "t = []\n",
    "MV = [MV0]\n",
    "E = []\n",
    "SP = []\n",
    "PV = []\n",
    "PV1p = []\n",
    "PV2p = []\n",
    "PV1d = []\n",
    "PV2d = []\n",
    "DV = []\n",
    "Man = []\n",
    "MVMan = []\n",
    "MVFF = []\n",
    "MVFF_Delay = []\n",
    "MV_Delayp = []\n",
    "MV_Delayd = []\n",
    "MVP = []\n",
    "MVI = []\n",
    "MVD = []\n",
    "\n",
    "\n",
    "# Parameters\n",
    "Kp = 0.4971\n",
    "Kd = 0.3734\n",
    "Kff = Kd/Kp #0.7512\n",
    "\n",
    "alpha = 0.9\n",
    "theta_p = 4.386\n",
    "theta_d = 12.181\n",
    "theta_ff = max(0, theta_d-theta_p)\n",
    "\n",
    "MVMin = 0\n",
    "MVMax = 100\n",
    "\n",
    "T1d = 153.9969\n",
    "T2d = 42.4662\n",
    "\n",
    "T1p = 201.8353\n",
    "T2p = 14.1389\n",
    "\n",
    "MVFFdv = []\n",
    "MVFFpv = []\n",
    "\n",
    "T1 = T1p\n",
    "T2 = T2p\n",
    "gamma = 0.6"
   ]
  },
  {
   "cell_type": "markdown",
   "id": "aed7f906-16a0-45ba-8efa-e022ff398f4b",
   "metadata": {},
   "source": [
    "## Simulation Closed loop\n"
   ]
  },
  {
   "cell_type": "code",
   "execution_count": 208,
   "id": "2f20fce9-a636-4ab5-ad24-390b910dcbd6",
   "metadata": {
    "tags": []
   },
   "outputs": [
    {
     "ename": "AttributeError",
     "evalue": "'AxesSubplot' object has no attribute 'data'",
     "output_type": "error",
     "traceback": [
      "\u001b[1;31m---------------------------------------------------------------------------\u001b[0m",
      "\u001b[1;31mAttributeError\u001b[0m                            Traceback (most recent call last)",
      "\u001b[1;32m~\\AppData\\Local\\Temp\\ipykernel_11164\\440745964.py\u001b[0m in \u001b[0;36m<module>\u001b[1;34m\u001b[0m\n\u001b[0;32m     33\u001b[0m     \u001b[0mPV\u001b[0m\u001b[1;33m.\u001b[0m\u001b[0mappend\u001b[0m\u001b[1;33m(\u001b[0m\u001b[0mPV2p\u001b[0m\u001b[1;33m[\u001b[0m\u001b[1;33m-\u001b[0m\u001b[1;36m1\u001b[0m\u001b[1;33m]\u001b[0m \u001b[1;33m+\u001b[0m \u001b[0mPV2d\u001b[0m\u001b[1;33m[\u001b[0m\u001b[1;33m-\u001b[0m\u001b[1;36m1\u001b[0m\u001b[1;33m]\u001b[0m \u001b[1;33m+\u001b[0m \u001b[0mPV0\u001b[0m\u001b[1;33m-\u001b[0m\u001b[0mKp\u001b[0m\u001b[1;33m*\u001b[0m\u001b[0mMV0\u001b[0m\u001b[1;33m)\u001b[0m\u001b[1;33m\u001b[0m\u001b[1;33m\u001b[0m\u001b[0m\n\u001b[0;32m     34\u001b[0m \u001b[1;33m\u001b[0m\u001b[0m\n\u001b[1;32m---> 35\u001b[1;33m     \u001b[0maxs\u001b[0m\u001b[1;33m[\u001b[0m\u001b[1;36m0\u001b[0m\u001b[1;33m]\u001b[0m\u001b[1;33m.\u001b[0m\u001b[0mdata\u001b[0m\u001b[1;33m(\u001b[0m\u001b[0mt\u001b[0m\u001b[1;33m,\u001b[0m\u001b[0mMan\u001b[0m\u001b[1;33m)\u001b[0m\u001b[1;33m\u001b[0m\u001b[1;33m\u001b[0m\u001b[0m\n\u001b[0m\u001b[0;32m     36\u001b[0m \u001b[1;33m\u001b[0m\u001b[0m\n\u001b[0;32m     37\u001b[0m \u001b[1;33m\u001b[0m\u001b[0m\n",
      "\u001b[1;31mAttributeError\u001b[0m: 'AxesSubplot' object has no attribute 'data'"
     ]
    }
   ],
   "source": [
    "[Kc, Ti, Td] = IMC_Tuning(T1, T2, T1p, gamma, Kp)\n",
    "\n",
    "\n",
    "for i in range(0,N-1):\n",
    "    t.append(i*Ts)\n",
    "    SelectPath_RT(SPPath,t,SP)\n",
    "    SelectPath_RT(MVManPath,t,MVMan)\n",
    "    SelectPath_RT(ManPath,t,Man)\n",
    "    SelectPath_RT(DVPath,t,DV)\n",
    "    \n",
    "    \n",
    "    #MVFF\n",
    "    Delay_RT(DV - DV0*np.ones_like(DV),np.max([theta_d-theta_p,0]),Ts,MVFF_Delay, DV0)\n",
    "    \n",
    "    LeadLag_RT(MVFF_Delay, -Kff, T1p, T1d, Ts, MVFFdv)\n",
    "    LeadLag_RT(MVFFdv, 1, T2p, T2d, Ts, MVFF)\n",
    "\n",
    "    \n",
    "    PID_RT(SP, PV, Man, MVMan, MVFF, Kc, Ti, Td, alpha, Ts, MVMin, MVMax, MV, MVP, MVI, MVD, E, ManFF)\n",
    "    \n",
    "    \n",
    "    \n",
    "    Delay_RT(MV, theta_p, Ts, MV_Delayp, MV0)\n",
    "    \n",
    "    FO_RT(MV_Delayp,Kp,T1p,Ts,PV1p,0)\n",
    "    FO_RT(PV1p,1,T2p,Ts,PV2p,0)\n",
    "    \n",
    "    Delay_RT(DV - DV0*np.ones_like(DV),theta_d,Ts,MV_Delayd, DV0)\n",
    "    \n",
    "    FO_RT(MV_Delayd,Kd,T1d,Ts,PV1d,0)\n",
    "    FO_RT(PV1d,1,T2d,Ts,PV2d,0)\n",
    "    \n",
    "    PV.append(PV2p[-1] + PV2d[-1] + PV0-Kp*MV0)\n",
    "        \n",
    "\n",
    "\n",
    "\n",
    "fig = plt.figure(figsize=(15, 10))  \n",
    "gs = fig.add_gridspec(4, 1, height_ratios=[1, 9, 8, 2])  \n",
    " \n",
    "axs = []\n",
    "axs.append(fig.add_subplot(gs[0]))\n",
    "axs.append(fig.add_subplot(gs[1]))\n",
    "axs.append(fig.add_subplot(gs[2]))\n",
    "axs.append(fig.add_subplot(gs[3]))\n",
    "\n",
    "axs[0].step([0, len(TSim)],[0, len(TSim)],'black',label='Man',where='pre')\n",
    "axs[0].set_ylabel('Value of Man [%]')\n",
    "axs[0].set_title('PID CLP FF test')\n",
    "axs[0].set_xlim([0, TSim])\n",
    "axs[0].set_ylim([-0.1,1.1])\n",
    "\n",
    "axs[1].step(t,MV,'r-',label='MV',where='pre')\n",
    "axs[1].step(t,MVP,'green',label='MVP',where='pre', ls = '--', linewidth = '1' )\n",
    "axs[1].step(t,MVI,'blue',label='MVI',where='pre', ls = '--', linewidth = '1')\n",
    "axs[1].step(t,MVD,'cyan',label='MVD',where='pre', ls = '--', linewidth = '1')\n",
    "axs[1].step(t,MVFF,'black',label='MVFF',where='pre', ls = '--', linewidth = '1')\n",
    "axs[1].set_ylabel('Values of MV')\n",
    "axs[1].legend(loc=\"upper right\", bbox_to_anchor=(1,1))\n",
    "axs[1].set_xlim([0, TSim])\n",
    "axs[1].set_ylim([-60,115])\n",
    "\n",
    "\n",
    "axs[2].step(t,PV,'-g', label='PV',where='post')\n",
    "axs[2].step(t,SP,'-r', label='SP',where='post')\n",
    "axs[2].set_ylabel('Value of PV and SP')\n",
    "axs[2].legend(loc=\"upper right\", bbox_to_anchor=(1,1))\n",
    "axs[2].set_xlim([0, TSim])   \n",
    "\n",
    "axs[3].step(t,DV,'-r', label='DV',where='post')\n",
    "axs[3].set_ylabel('Value of DV')\n",
    "axs[3].set_xlabel('Time [s]')\n",
    "axs[3].legend(loc='best')\n",
    "axs[3].set_xlim([0, TSim]) \n",
    "\n",
    "\n",
    "plt.tight_layout()\n",
    "\n",
    "plt.show()\n"
   ]
  },
  {
   "cell_type": "markdown",
   "id": "c93d26a9-3b9c-4a11-82fb-bef0a0ce9f74",
   "metadata": {},
   "source": [
    "## Phase & Gain Margins"
   ]
  },
  {
   "cell_type": "code",
   "execution_count": null,
   "id": "d3f5a9d6-5e11-48af-b4f3-f845a5c0cde4",
   "metadata": {},
   "outputs": [],
   "source": [
    "P = Process({})\n",
    "\n",
    "Am = None\n",
    "Phim = None\n",
    "\n",
    "\n",
    "P.parameters['Kp'] = 2\n",
    "P.parameters['Tlag1'] = T1p\n",
    "P.parameters['Tlag2'] = T2p\n",
    "P.parameters['theta'] = theta_pExp\n",
    "\n",
    "omega = np.logspace(-3, 1, 10000)\n",
    "\n",
    "P1 = Margin(P,omega, Am, Phim,omegaC=0, omegaU=0, Show=True)\n",
    "\n",
    "print(P1)"
   ]
  }
 ],
 "metadata": {
  "kernelspec": {
   "display_name": "Python 3 (ipykernel)",
   "language": "python",
   "name": "python3"
  },
  "language_info": {
   "codemirror_mode": {
    "name": "ipython",
    "version": 3
   },
   "file_extension": ".py",
   "mimetype": "text/x-python",
   "name": "python",
   "nbconvert_exporter": "python",
   "pygments_lexer": "ipython3",
   "version": "3.9.13"
  }
 },
 "nbformat": 4,
 "nbformat_minor": 5
}
