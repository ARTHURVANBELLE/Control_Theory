{
 "cells": [
  {
   "cell_type": "markdown",
   "id": "7c73aa7d-f025-499b-ae05-65a46076d025",
   "metadata": {},
   "source": [
    "# TCLAB Test PID en boucle fermée"
   ]
  },
  {
   "cell_type": "code",
   "execution_count": 119,
   "id": "9b8c4450-e697-4d27-af6f-0ee5d3fd2a91",
   "metadata": {},
   "outputs": [],
   "source": [
    "import pandas as pd\n",
    "import numpy as np\n",
    "import matplotlib.pyplot as plt\n",
    "from IPython.display import display, clear_output\n",
    "from scipy.optimize import minimize\n",
    "from matplotlib import colors as mcolors\n",
    "from math import exp\n",
    "\n",
    "import package_LAB\n",
    "from package_LAB import LeadLag_RT, PID_RT, Margin, IMC_Tuning\n",
    "import package_DBR\n",
    "from package_DBR import myRound, SelectPath_RT, Delay_RT, FO_RT, FOPDT, SOPDT, FOPDT_cost, SOPDT_cost, Process, Bode\n",
    "\n",
    "from importlib import reload\n",
    "package_LAB = reload(package_LAB)\n",
    "\n",
    "import tclab\n",
    "import time\n",
    "from datetime import datetime\n",
    "import os"
   ]
  },
  {
   "cell_type": "markdown",
   "id": "1a412bdb-4774-4cad-91fe-d6363e94227b",
   "metadata": {},
   "source": [
    "## Scenario"
   ]
  },
  {
   "cell_type": "code",
   "execution_count": 120,
   "id": "0fe30628-7cb9-46ee-86a4-e1d65fe9a16d",
   "metadata": {
    "tags": []
   },
   "outputs": [],
   "source": [
    "Scenario = \"TCLAB_Simu\"\n",
    "\n",
    "if(Scenario == \"TCLAB_Simu\"):\n",
    "    TSim = 2500\n",
    "\n",
    "    SPPath = {0:75, 1300:65, 1500:65, TSim:65}\n",
    "    MVManPath = {0:50, TSim:50}\n",
    "    ManPath = {0:True, 500:False, TSim:False}\n",
    "    DVPath = {0:50, 2000:60, TSim:60}\n",
    "    ManFF = False\n",
    "    \n",
    "    NumRTsteps = TSim"
   ]
  },
  {
   "cell_type": "markdown",
   "id": "5dccf41d-7019-4989-971f-c02a86c18595",
   "metadata": {},
   "source": [
    "## Calcul de DV0 & PV0"
   ]
  },
  {
   "cell_type": "code",
   "execution_count": 121,
   "id": "6480fb02-c6b8-4b06-a1d1-8904fa6630b0",
   "metadata": {
    "tags": []
   },
   "outputs": [
    {
     "name": "stdout",
     "output_type": "stream",
     "text": [
      "70.1002900552487\n"
     ]
    },
    {
     "data": {
      "text/plain": [
       "\"\\nnameFile2 = 'Open_loop_experiment_on_DV_2024-03-18-19h49.txt'\\n\\ntitleName2 = nameFile2.split('.')[0]\\ndata2= pd.read_csv(nameFile2)\\nt2 = data2['t'].values - data2['t'].values[0]\\n\\nDV0 = 0\\nfor i in range(len(t2)):\\n    DV0 += data2['PV'].values[i]\\nDV0 = DV0/len(t2)\\nprint(DV0)\\n\""
      ]
     },
     "execution_count": 121,
     "metadata": {},
     "output_type": "execute_result"
    }
   ],
   "source": [
    "nameFile1 = 'Open_loop_experiment_on_MV_2024-03-18-09h26.txt'\n",
    "\n",
    "titleName1 = nameFile1.split('.')[0]\n",
    "data1 = pd.read_csv(nameFile1)\n",
    "t1 = data1['t'].values - data1['t'].values[0]\n",
    "\n",
    "PV0 = 0\n",
    "for i in range(len(t1)):\n",
    "    PV0 += data1['PV'].values[i]\n",
    "PV0 = PV0/len(t1)\n",
    "print(PV0)\n"
   ]
  },
  {
   "cell_type": "markdown",
   "id": "c368a6d8-c571-45ef-898c-1fda9357d54c",
   "metadata": {},
   "source": [
    "## Simulation Closed loop Parameters"
   ]
  },
  {
   "cell_type": "code",
   "execution_count": 122,
   "id": "c51d0289-305c-4cf9-8d65-18de8305b42d",
   "metadata": {},
   "outputs": [],
   "source": [
    "Ts = 1\n",
    "N = int(TSim/Ts) + 1\n",
    "\n",
    "MV0 = 50\n",
    "DV0 = 50\n",
    "PV0 = 70\n",
    "\n",
    "t = []\n",
    "MV = []\n",
    "MVSave = [MV0]\n",
    "E = []\n",
    "SP = []\n",
    "PV = []\n",
    "PV1p = []\n",
    "PV2p = []\n",
    "PV1d = []\n",
    "PV2d = []\n",
    "DV = []\n",
    "Man = []\n",
    "MVMan = []\n",
    "MVFF = []\n",
    "MVFF_Delay = []\n",
    "MV_Delayp = []\n",
    "MV_Delayd = []\n",
    "MVP = []\n",
    "MVI = []\n",
    "MVD = []\n",
    "\n",
    "\n",
    "# Parameters\n",
    "Kp = 0.4971\n",
    "Kd = 0.3734\n",
    "Kff = Kd/Kp #0.7512\n",
    "\n",
    "alpha = 0.9\n",
    "theta_p = 4.386\n",
    "theta_d = 12.181\n",
    "theta_ff = max(0, theta_d-theta_p)\n",
    "\n",
    "MVMin = 0\n",
    "MVMax = 100\n",
    "\n",
    "T1d = 153.9969\n",
    "T2d = 42.4662\n",
    "\n",
    "T1p = 201.8353\n",
    "T2p = 14.1389\n",
    "\n",
    "MVFFdv = []\n",
    "MVFFpv = []\n",
    "\n",
    "T1 = T1p\n",
    "T2 = T2p\n",
    "gamma = 0.6"
   ]
  },
  {
   "cell_type": "markdown",
   "id": "aed7f906-16a0-45ba-8efa-e022ff398f4b",
   "metadata": {},
   "source": [
    "## Test Closed loop\n"
   ]
  },
  {
   "cell_type": "code",
   "execution_count": 1,
   "id": "2f20fce9-a636-4ab5-ad24-390b910dcbd6",
   "metadata": {
    "tags": []
   },
   "outputs": [
    {
     "ename": "NameError",
     "evalue": "name 'plt' is not defined",
     "output_type": "error",
     "traceback": [
      "\u001b[1;31m---------------------------------------------------------------------------\u001b[0m",
      "\u001b[1;31mNameError\u001b[0m                                 Traceback (most recent call last)",
      "\u001b[1;32m~\\AppData\\Local\\Temp\\ipykernel_9376\\1661541628.py\u001b[0m in \u001b[0;36m<module>\u001b[1;34m\u001b[0m\n\u001b[1;32m----> 1\u001b[1;33m \u001b[0mfig\u001b[0m\u001b[1;33m,\u001b[0m \u001b[1;33m(\u001b[0m\u001b[0max1\u001b[0m\u001b[1;33m,\u001b[0m \u001b[0max2\u001b[0m\u001b[1;33m,\u001b[0m \u001b[0max3\u001b[0m\u001b[1;33m,\u001b[0m \u001b[0max4\u001b[0m\u001b[1;33m)\u001b[0m \u001b[1;33m=\u001b[0m \u001b[0mplt\u001b[0m\u001b[1;33m.\u001b[0m\u001b[0msubplots\u001b[0m\u001b[1;33m(\u001b[0m\u001b[1;36m4\u001b[0m\u001b[1;33m,\u001b[0m\u001b[1;36m1\u001b[0m\u001b[1;33m)\u001b[0m\u001b[1;33m\u001b[0m\u001b[1;33m\u001b[0m\u001b[0m\n\u001b[0m\u001b[0;32m      2\u001b[0m \u001b[1;33m\u001b[0m\u001b[0m\n\u001b[0;32m      3\u001b[0m \u001b[0mfig\u001b[0m\u001b[1;33m.\u001b[0m\u001b[0mset_figheight\u001b[0m\u001b[1;33m(\u001b[0m\u001b[1;36m9\u001b[0m\u001b[1;33m)\u001b[0m\u001b[1;33m\u001b[0m\u001b[1;33m\u001b[0m\u001b[0m\n\u001b[0;32m      4\u001b[0m \u001b[0mfig\u001b[0m\u001b[1;33m.\u001b[0m\u001b[0mset_figwidth\u001b[0m\u001b[1;33m(\u001b[0m\u001b[1;36m15\u001b[0m\u001b[1;33m)\u001b[0m\u001b[1;33m\u001b[0m\u001b[1;33m\u001b[0m\u001b[0m\n\u001b[0;32m      5\u001b[0m \u001b[1;33m\u001b[0m\u001b[0m\n",
      "\u001b[1;31mNameError\u001b[0m: name 'plt' is not defined"
     ]
    }
   ],
   "source": [
    "fig, (ax1, ax2, ax3, ax4) = plt.subplots(4,1)\n",
    "\n",
    "fig.set_figheight(9)\n",
    "fig.set_figwidth(15)\n",
    "\n",
    "l1, = ax1.step([0, len(TSim)],[0, len(TSim)],'black',label='Man',where='pre')\n",
    "ax1.set_ylabel('Value of Man [%]')\n",
    "ax1.set_title('PID CLP FF test')\n",
    "ax1.set_xlim([0, TSim])\n",
    "ax1.set_ylim([-0.1,1.1])\n",
    "\n",
    "l2, = ax2.step([0,TSim],[0,TSim],'r-',label='MV',where='pre')\n",
    "l3, = ax2.step([0,TSim],[0,TSim],'green',label='MVP',where='pre', ls = '--', linewidth = '1' )\n",
    "l4, = ax2.step([0,TSim],[0,TSim],'blue',label='MVI',where='pre', ls = '--', linewidth = '1')\n",
    "l5, = ax2.step([0,TSim],[0,TSim],'cyan',label='MVD',where='pre', ls = '--', linewidth = '1')\n",
    "l6, = ax2.step([0,TSim],[0,TSim],'black',label='MVFF',where='pre', ls = '--', linewidth = '1')\n",
    "ax2.set_ylabel('Values of MV')\n",
    "ax2.legend(loc=\"upper right\", bbox_to_anchor=(1,1))\n",
    "ax2.set_xlim([0, TSim])\n",
    "ax2.set_ylim([-60,115])\n",
    "\n",
    "l7, = ax3.step([0,TSim],[0,TSim],'-g', label='PV',where='post')\n",
    "l8, = ax3.step([0,TSim],[0,TSim],'-r', label='SP',where='post')\n",
    "ax3.set_ylabel('Value of PV and SP')\n",
    "ax3.legend(loc=\"upper right\", bbox_to_anchor=(1,1))\n",
    "ax3.set_xlim([0, TSim])\n",
    "\n",
    "l9, = ax4.step([0,TSim],[0,TSim],'-r', label='DV',where='post')\n",
    "ax4.set_ylabel('Value of DV')\n",
    "ax4.set_xlabel('Time [s]')\n",
    "ax4.legend(loc='best')\n",
    "ax4.set_xlim([0, TSim]) \n",
    "\n",
    "\n",
    "lab = tclab.TCLab()\n",
    "\n",
    "Exp = True\n",
    "\n",
    "\n",
    "i = 0\n",
    "[Kc, Ti, Td] = IMC_Tuning(T1, T2, T1p, gamma, Kp)\n",
    "\n",
    "while Exp:\n",
    "    \n",
    "    if (len(t) == 0):\n",
    "        MVValue = MV0\n",
    "        DVValue = DV0\n",
    "        \n",
    "    lab.Q1(MVValue)\n",
    "    lab.Q2(DVValue)\n",
    "    \n",
    "    t.append(i*Ts)\n",
    "    \n",
    "    if t[-1] == 0:\n",
    "        last_time = time.time()    \n",
    "    \n",
    "    MV.append(MVValue)\n",
    "    DV.append(DVValue)    \n",
    "    PV.append(lab.T1)\n",
    "    \n",
    "    # Wait for sampling period Ts\n",
    "    now = time.time()\n",
    "    delta = now - last_time\n",
    "    \n",
    "    time.sleep(np.max([0, Ts - delta]))\n",
    "    last_time = time.time()    \n",
    "    \n",
    "    l1.set_data(t,Man)\n",
    "    l2.set_data(t,MV)\n",
    "    l3.set_data(t,MVP)\n",
    "    l4.set_data(t,MVI)\n",
    "    l5.set_data(t,MVD)\n",
    "    l6.set_data(t,MVFF)\n",
    "    l7.set_data(t,PV)\n",
    "    l8.set_data(t,SP)\n",
    "    l9.set_data(t,DV)\n",
    "    \n",
    "    \n",
    "    clear_output(wait=True)    \n",
    "    \n",
    "    SelectPath_RT(SPPath,t,SP)\n",
    "    SelectPath_RT(MVManPath,t,MVMan)\n",
    "    SelectPath_RT(ManPath,t,Man)\n",
    "    \n",
    "    \n",
    "    #MVFF\n",
    "    Delay_RT(DV - DV0*np.ones_like(DV),np.max([theta_d-theta_p,0]),Ts,MVFF_Delay, DV0)\n",
    "    \n",
    "    LeadLag_RT(MVFF_Delay, -Kff, T1p, T1d, Ts, MVFFdv)\n",
    "    LeadLag_RT(MVFFdv, 1, T2p, T2d, Ts, MVFF)\n",
    "\n",
    "    \n",
    "    PID_RT(SP, PV, Man, MVMan, MVFF, Kc, Ti, Td, alpha, Ts, MVMin, MVMax, MVSave, MVP, MVI, MVD, E, ManFF)\n",
    "    \n",
    "    MVValue = MVSave[-1]\n",
    "    \n",
    "    display(fig)     \n",
    "    \n",
    "    i = i + 1\n",
    "    \n",
    "    if i == NumRTsteps:\n",
    "        Exp = False\n",
    "        lab.close()\n",
    "\n",
    "        \n",
    "        \n",
    "# Save data in text file\n",
    "# ----------------------\n",
    "now = datetime.now()\n",
    "date_time = now.strftime(\"%Y-%m-%d-%Hh%M\")\n",
    "# Conversion to array\n",
    "t = np.array(t) \n",
    "MV = np.array(MV)\n",
    "PV = np.array(PV)\n",
    "DV = np.array(DV)        \n",
    "my_data = np.vstack((t.T,MV.T,PV.T,DV.T))\n",
    "my_data = my_data.T\n",
    "nameFile = 'Data/RT_test_on_' + date_time + '.txt'\n",
    "if not os.path.exists('Data'):\n",
    "    os.makedirs('Data')\n",
    "np.savetxt(nameFile,my_data,delimiter=',',header='t,MV,PV,DV',comments='')        \n",
    "\n",
    "\n",
    "# Save Plot\n",
    "# ---------\n",
    "if not os.path.exists('Plots'):\n",
    "    os.makedirs('Plots')\n",
    "\n",
    "titleName = 'RT_test_on_' + date_time\n",
    "plt.savefig('Plots\\\\' + titleName + '.png',transparent=True)\n",
    "plt.savefig('Plots\\\\' + titleName + '.pdf',transparent=True)\n",
    "    \n",
    "    \n",
    "    \n"
   ]
  }
 ],
 "metadata": {
  "kernelspec": {
   "display_name": "Python 3 (ipykernel)",
   "language": "python",
   "name": "python3"
  },
  "language_info": {
   "codemirror_mode": {
    "name": "ipython",
    "version": 3
   },
   "file_extension": ".py",
   "mimetype": "text/x-python",
   "name": "python",
   "nbconvert_exporter": "python",
   "pygments_lexer": "ipython3",
   "version": "3.9.13"
  }
 },
 "nbformat": 4,
 "nbformat_minor": 5
}
